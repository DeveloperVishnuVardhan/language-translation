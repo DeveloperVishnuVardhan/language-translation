{
 "cells": [
  {
   "cell_type": "code",
   "execution_count": 1,
   "metadata": {},
   "outputs": [
    {
     "name": "stdout",
     "output_type": "stream",
     "text": [
      "['ca-de', 'ca-en', 'de-en', 'el-en', 'de-eo', 'en-eo', 'de-es', 'el-es', 'en-es', 'eo-es', 'en-fi', 'es-fi', 'de-fr', 'el-fr', 'en-fr', 'eo-fr', 'es-fr', 'fi-fr', 'ca-hu', 'de-hu', 'el-hu', 'en-hu', 'eo-hu', 'fr-hu', 'de-it', 'en-it', 'eo-it', 'es-it', 'fr-it', 'hu-it', 'ca-nl', 'de-nl', 'en-nl', 'es-nl', 'fr-nl', 'hu-nl', 'it-nl', 'en-no', 'es-no', 'fi-no', 'fr-no', 'hu-no', 'en-pl', 'fi-pl', 'fr-pl', 'hu-pl', 'de-pt', 'en-pt', 'eo-pt', 'es-pt', 'fr-pt', 'hu-pt', 'it-pt', 'de-ru', 'en-ru', 'es-ru', 'fr-ru', 'hu-ru', 'it-ru', 'en-sv', 'fr-sv', 'it-sv']\n"
     ]
    }
   ],
   "source": [
    "# get all the possible configurations in opus-book dataset.\n",
    "from datasets import get_dataset_config_names\n",
    "\n",
    "configs = get_dataset_config_names(\"opus_books\")\n",
    "print(configs)"
   ]
  },
  {
   "cell_type": "code",
   "execution_count": 2,
   "metadata": {},
   "outputs": [
    {
     "name": "stdout",
     "output_type": "stream",
     "text": [
      "Dataset({\n",
      "    features: ['id', 'translation'],\n",
      "    num_rows: 32332\n",
      "})\n"
     ]
    }
   ],
   "source": [
    "# Load the en-it dataset\n",
    "from datasets import load_dataset\n",
    "\n",
    "raw_data = load_dataset(\"opus_books\", \"en-it\", split=\"train\")\n",
    "print(raw_data)"
   ]
  },
  {
   "cell_type": "code",
   "execution_count": 3,
   "metadata": {},
   "outputs": [
    {
     "data": {
      "text/plain": [
       "{'id': '0',\n",
       " 'translation': {'en': 'Source: Project Gutenberg',\n",
       "  'it': 'Source: www.liberliber.it/Audiobook available here'}}"
      ]
     },
     "execution_count": 3,
     "metadata": {},
     "output_type": "execute_result"
    }
   ],
   "source": [
    "raw_data[0]"
   ]
  },
  {
   "cell_type": "code",
   "execution_count": 5,
   "metadata": {},
   "outputs": [],
   "source": [
    "from tokenizers import Tokenizer\n",
    "from tokenizers.models import WordLevel\n",
    "from tokenizers.trainers import WordPieceTrainer\n",
    "from tokenizers.pre_tokenizers import Whitespace\n",
    "\n",
    "tokenizer = Tokenizer(WordLevel(unk_token=\"[UNK]\"))\n",
    "tokenizer.pre_tokenizer = Whitespace()\n",
    "trainer = WordPieceTrainer(special_tokens=[\"[UNK]\", \"[PAD]\", \"[SOS]\", \"[EOS]\"], min_frequency=2)\n",
    "\n"
   ]
  },
  {
   "cell_type": "code",
   "execution_count": null,
   "metadata": {},
   "outputs": [],
   "source": []
  }
 ],
 "metadata": {
  "kernelspec": {
   "display_name": "env_pytorch",
   "language": "python",
   "name": "python3"
  },
  "language_info": {
   "codemirror_mode": {
    "name": "ipython",
    "version": 3
   },
   "file_extension": ".py",
   "mimetype": "text/x-python",
   "name": "python",
   "nbconvert_exporter": "python",
   "pygments_lexer": "ipython3",
   "version": "3.9.18"
  }
 },
 "nbformat": 4,
 "nbformat_minor": 2
}
